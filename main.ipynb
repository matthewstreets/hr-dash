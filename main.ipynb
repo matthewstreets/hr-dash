{
 "cells": [
  {
   "cell_type": "markdown",
   "metadata": {},
   "source": [
    "# HR Analytics Dashboard\n"
   ]
  },
  {
   "cell_type": "markdown",
   "metadata": {},
   "source": [
    "## Data Dictionary\n"
   ]
  },
  {
   "cell_type": "markdown",
   "metadata": {},
   "source": [
    "\n",
    "| Feature | Description | Type | \n",
    "| ------- | ----------- | ---- |\n",
    "| Employee Name | Employee’s full name | Text |\n",
    "| EmpID | Employee ID is unique to each employee \t|Text |\n",
    "| MarriedID | Is the person married (1 or 0 for yes or no) |\tBinary|\n",
    "| MaritalStatusID | Marital status code that matches the text field MaritalDesc | Integer|\n",
    "| EmpStatusID | Employment status code that matches text field EmploymentStatus|\tInteger|\n",
    "| DeptID | Department ID code that matches the department the employee works in |\tInteger|\n",
    "| PerfScoreID | Performance Score code that matches the employee’s most recent performance score \t|Integer|\n",
    "| FromDiversityJobFairID |\tWas the employee sourced from the Diversity job fair? 1 or 0 for yes or no \t|Binary|\n",
    "| Salary |\tThe person’s yearly salary. $ U.S. Dollars |\tFloat|\n",
    "| Termd |\tHas this employee been terminated - 1 or 0 |\tBinary|\n",
    "| PositionID |An integer indicating the person’s position |Integer|\n",
    "| Position |\tThe text name/title of the position the person has |\tText|\n",
    "| State |\tThe state that the person lives in |\tText|\n",
    "| Zip |\tThe zip code for the employee \t|Text|\n",
    "| DOB |\tDate of Birth for the employee |\tDate|\n",
    "| Sex |\tSex - M or F |\tText|\n",
    "| MaritalDesc |\tThe marital status of the person (divorced, single, widowed, separated, etc) \t|Text|\n",
    "| CitizenDesc |\tLabel for whether the person is a Citizen or Eligible NonCitizen |\tText|\n",
    "| HispanicLatino |\tYes or No field for whether the employee is Hispanic/Latino \t|Text|\n",
    "| RaceDesc |\tDescription/text of the race the person identifies with \t|Text|\n",
    "| DateofHire |\tDate the person was hired \t|Date|\n",
    "| DateofTermination |\tDate the person was terminated, only populated if, in fact, Termd = 1 \t|Date|\n",
    "| TermReason |\tA text reason / description for why the person was terminated |\tText|\n",
    "| EmploymentStatus |\tA description/category of the person’s employment status. Anyone currently working full time = Active |\tText|\n",
    "| Department |\tName of the department that the person works in \t|Text|\n",
    "| ManagerName |\tThe name of the person’s immediate manager |\tText|\n",
    "| ManagerID |\tA unique identifier for each manager. |\tInteger|\n",
    "| RecruitmentSource |\tThe name of the recruitment source where the employee was recruited from |\tText|\n",
    "| PerformanceScore |\tPerformance Score text/category (Fully Meets, Partially Meets, PIP, Exceeds) |\tText|\n",
    "| EngagementSurvey |\tResults from the last engagement survey, managed by our external partner |\tFloat|\n",
    "| EmpSatisfaction |\tA basic satisfaction score between 1 and 5, as reported on a recent employee satisfaction survey |\tInteger|\n",
    "| SpecialProjectsCount |\tThe number of special projects that the employee worked on during the last 6 months |\tInteger|\n",
    "| LastPerformanceReviewDate |\tThe most recent date of the person’s last performance review. |\tDate|\n",
    "| DaysLateLast30 |\tThe number of times that the employee was late to work during the last 30 days |\tInteger|\n",
    "| Absences |\tThe number of times the employee was absent from work. |Integer |"
   ]
  },
  {
   "cell_type": "markdown",
   "metadata": {},
   "source": [
    "## Exploratory Data Analysis"
   ]
  },
  {
   "cell_type": "code",
   "execution_count": 13,
   "metadata": {},
   "outputs": [],
   "source": [
    "# imports the necessary packages\n",
    "import pandas as pd \n",
    "import numpy as np"
   ]
  },
  {
   "cell_type": "code",
   "execution_count": 16,
   "metadata": {},
   "outputs": [
    {
     "name": "stdout",
     "output_type": "stream",
     "text": [
      "<class 'pandas.core.frame.DataFrame'>\n",
      "RangeIndex: 311 entries, 0 to 310\n",
      "Data columns (total 36 columns):\n",
      " #   Column                      Non-Null Count  Dtype  \n",
      "---  ------                      --------------  -----  \n",
      " 0   Employee_Name               311 non-null    object \n",
      " 1   EmpID                       311 non-null    int64  \n",
      " 2   MarriedID                   311 non-null    int64  \n",
      " 3   MaritalStatusID             311 non-null    int64  \n",
      " 4   GenderID                    311 non-null    int64  \n",
      " 5   EmpStatusID                 311 non-null    int64  \n",
      " 6   DeptID                      311 non-null    int64  \n",
      " 7   PerfScoreID                 311 non-null    int64  \n",
      " 8   FromDiversityJobFairID      311 non-null    int64  \n",
      " 9   Salary                      311 non-null    int64  \n",
      " 10  Termd                       311 non-null    int64  \n",
      " 11  PositionID                  311 non-null    int64  \n",
      " 12  Position                    311 non-null    object \n",
      " 13  State                       311 non-null    object \n",
      " 14  Zip                         311 non-null    int64  \n",
      " 15  DOB                         311 non-null    object \n",
      " 16  Sex                         311 non-null    object \n",
      " 17  MaritalDesc                 311 non-null    object \n",
      " 18  CitizenDesc                 311 non-null    object \n",
      " 19  HispanicLatino              311 non-null    object \n",
      " 20  RaceDesc                    311 non-null    object \n",
      " 21  DateofHire                  311 non-null    object \n",
      " 22  DateofTermination           104 non-null    object \n",
      " 23  TermReason                  311 non-null    object \n",
      " 24  EmploymentStatus            311 non-null    object \n",
      " 25  Department                  311 non-null    object \n",
      " 26  ManagerName                 311 non-null    object \n",
      " 27  ManagerID                   303 non-null    float64\n",
      " 28  RecruitmentSource           311 non-null    object \n",
      " 29  PerformanceScore            311 non-null    object \n",
      " 30  EngagementSurvey            311 non-null    float64\n",
      " 31  EmpSatisfaction             311 non-null    int64  \n",
      " 32  SpecialProjectsCount        311 non-null    int64  \n",
      " 33  LastPerformanceReview_Date  311 non-null    object \n",
      " 34  DaysLateLast30              311 non-null    int64  \n",
      " 35  Absences                    311 non-null    int64  \n",
      "dtypes: float64(2), int64(16), object(18)\n",
      "memory usage: 87.6+ KB\n"
     ]
    }
   ],
   "source": [
    "# creates a dataframe to hold the data from dataset.csv\n",
    "df = pd.read_csv('dataset.csv')\n",
    "\n",
    "# provides basic information about the dataset\n",
    "df.info()"
   ]
  }
 ],
 "metadata": {
  "kernelspec": {
   "display_name": "venv",
   "language": "python",
   "name": "python3"
  },
  "language_info": {
   "codemirror_mode": {
    "name": "ipython",
    "version": 3
   },
   "file_extension": ".py",
   "mimetype": "text/x-python",
   "name": "python",
   "nbconvert_exporter": "python",
   "pygments_lexer": "ipython3",
   "version": "3.9.6"
  },
  "orig_nbformat": 4
 },
 "nbformat": 4,
 "nbformat_minor": 2
}
